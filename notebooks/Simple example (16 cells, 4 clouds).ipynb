{
 "cells": [
  {
   "cell_type": "code",
   "execution_count": 1,
   "metadata": {},
   "outputs": [],
   "source": [
    "import numpy as np"
   ]
  },
  {
   "cell_type": "code",
   "execution_count": 2,
   "metadata": {},
   "outputs": [
    {
     "name": "stdout",
     "output_type": "stream",
     "text": [
      "[0. 0. 1. 1. 0. 1. 0. 0. 1. 0. 0. 0. 1. 0. 1. 1.]\n"
     ]
    }
   ],
   "source": [
    "ncells = 16\n",
    "ql_binary = np.zeros(16)\n",
    "indices = np.array([2,3,5,8,12,14,15])\n",
    "for c, value in enumerate(ql_binary):\n",
    "    if c in indices:\n",
    "        ql_binary[c] = 1\n",
    "\n",
    "print ql_binary"
   ]
  },
  {
   "cell_type": "code",
   "execution_count": 3,
   "metadata": {},
   "outputs": [
    {
     "data": {
      "text/plain": [
       "array([[ 1, -1, -1],\n",
       "       [ 2, 14,  0],\n",
       "       [ 3,  1, -1],\n",
       "       [ 4, 12,  2],\n",
       "       [ 5,  3, -1],\n",
       "       [ 6, 10,  4],\n",
       "       [ 7,  5, -1],\n",
       "       [-1,  8,  6],\n",
       "       [-1,  9,  7],\n",
       "       [ 8, -1, 10],\n",
       "       [ 9, 11,  5],\n",
       "       [10, -1, 12],\n",
       "       [11, 13,  3],\n",
       "       [12, -1, 14],\n",
       "       [13, 15,  1],\n",
       "       [14, -1, -1]])"
      ]
     },
     "execution_count": 3,
     "metadata": {},
     "output_type": "execute_result"
    }
   ],
   "source": [
    "neighbours = np.zeros((16,3),'int')\n",
    "neighbours[0,:] = 1,-1,-1\n",
    "neighbours[1,:] = 2,14,0\n",
    "neighbours[2,:] = 3,1,-1\n",
    "neighbours[3,:] = 4,12,2\n",
    "neighbours[4,:] = 5,3,-1\n",
    "neighbours[5,:] = 6,10,4\n",
    "neighbours[6,:] = 7,5,-1\n",
    "neighbours[7,:] =-1,8,6\n",
    "neighbours[8,:] = -1,9,7\n",
    "neighbours[9,:] = 8,-1,10\n",
    "neighbours[10,:] = 9,11,5\n",
    "neighbours[11,:] = 10,-1,12\n",
    "neighbours[12,:] = 11,13,3\n",
    "neighbours[13,:] = 12,-1,14\n",
    "neighbours[14,:] = 13,15,1\n",
    "neighbours[15,:] = 14,-1,-1\n",
    "\n",
    "neighbours\n"
   ]
  },
  {
   "cell_type": "code",
   "execution_count": 4,
   "metadata": {},
   "outputs": [],
   "source": [
    "import os\n",
    "path = '/home/thirza/Cusize_python/PyRipser/python'\n",
    "os.chdir(path)\n",
    "\n",
    "from unionfind import UnionFind"
   ]
  },
  {
   "cell_type": "code",
   "execution_count": 5,
   "metadata": {},
   "outputs": [
    {
     "data": {
      "text/plain": [
       "0.0"
      ]
     },
     "execution_count": 5,
     "metadata": {},
     "output_type": "execute_result"
    }
   ],
   "source": [
    "ql_binary[0]"
   ]
  },
  {
   "cell_type": "code",
   "execution_count": 7,
   "metadata": {},
   "outputs": [
    {
     "name": "stdout",
     "output_type": "stream",
     "text": [
      "3\n",
      "12\n",
      "15\n",
      "[ 0  1  3  3  4  5  6  7  8  9 10 11  3 13 15 15]\n"
     ]
    }
   ],
   "source": [
    "# Old one:\n",
    "\n",
    "test = UnionFind(ncells)\n",
    "\n",
    "for j in range(0, ncells-1):\n",
    "    if ql_binary[j]:\n",
    "        for i in range(0,2):\n",
    "            cell_index = neighbours[j,i]\n",
    "            if cell_index != -1:\n",
    "                if ql_binary[cell_index]:\n",
    "                    print neighbours[j,i]\n",
    "                    test.link(j,neighbours[j,i])\n",
    "                    \n",
    "print test.parent"
   ]
  },
  {
   "cell_type": "code",
   "execution_count": 6,
   "metadata": {},
   "outputs": [],
   "source": [
    "idx_clouds = np.array(np.where(ql_binary))[0]\n",
    "\n"
   ]
  },
  {
   "cell_type": "code",
   "execution_count": 7,
   "metadata": {},
   "outputs": [
    {
     "name": "stdout",
     "output_type": "stream",
     "text": [
      "[ 2  3  5  8 12 14 15]\n",
      "[1 1 2 3 1 6 6]\n"
     ]
    }
   ],
   "source": [
    "nr_cloud_cells = len(idx_clouds)\n",
    "\n",
    "print idx_clouds\n",
    "\n",
    "test = UnionFind(nr_cloud_cells)\n",
    "\n",
    "#for j in idx_clouds[0]:\n",
    "for j in range(0,nr_cloud_cells):\n",
    "    cell_1 = idx_clouds[j]\n",
    "    for i in range(0,3):\n",
    "        cell_2 = neighbours[cell_1,i]\n",
    "        if cell_2 != -1:\n",
    "            if ql_binary[cell_2]:\n",
    "                idx_2 = np.where(idx_clouds==cell_2)\n",
    "                test.link(j,idx_2)\n",
    "\n",
    "\n",
    "for j in range(0, nr_cloud_cells):\n",
    "    test.find(j)\n",
    "        \n",
    "print test.parent"
   ]
  },
  {
   "cell_type": "code",
   "execution_count": 8,
   "metadata": {},
   "outputs": [
    {
     "name": "stdout",
     "output_type": "stream",
     "text": [
      "set([1, 2, 3, 6])\n",
      "(array([0, 1, 4]),)\n",
      "[ 2  3 12]\n",
      "(array([2]),)\n",
      "[5]\n",
      "(array([3]),)\n",
      "[8]\n",
      "(array([5, 6]),)\n",
      "[14 15]\n",
      "[3. 1. 1. 2.]\n",
      "4\n"
     ]
    }
   ],
   "source": [
    "cloud_label = 0\n",
    "cloud_size_long = np.zeros(ncells)\n",
    "\n",
    "parents = set(test.parent)\n",
    "print parents\n",
    "for p in parents:\n",
    "    #print '%d --- %s' % (p, np.where(test.parent == p))\n",
    "    idx_parent = np.where(test.parent == p)\n",
    "    print idx_parent\n",
    "    cloud_cells = idx_clouds[idx_parent]\n",
    "    print cloud_cells\n",
    "    cloud_size_long[cloud_label] = len(idx_parent[0])\n",
    "    cloud_label += 1\n",
    "    \n",
    "    \n",
    "cloud_size = np.trim_zeros(cloud_size_long)\n",
    "print cloud_size\n",
    "nr_clouds = len(cloud_size)\n",
    "print nr_clouds"
   ]
  },
  {
   "cell_type": "code",
   "execution_count": 7,
   "metadata": {},
   "outputs": [
    {
     "name": "stdout",
     "output_type": "stream",
     "text": [
      "[0 1 2 4 4 4 6 7 8 9]\n",
      "[0 0 0 0 1 0 0 0 0 0]\n",
      "0\n",
      "1\n",
      "2\n",
      "4\n",
      "4\n",
      "4\n",
      "6\n",
      "7\n",
      "8\n",
      "9\n"
     ]
    }
   ],
   "source": [
    "test2 = UnionFind(10)\n",
    "\n",
    "test2.link(3,4)\n",
    "test2.link(4,5)\n",
    "        \n",
    "print test2.parent\n",
    "print test2.rank\n",
    "\n",
    "parents = test2.parent\n",
    "\n",
    "for j in range(0,10):\n",
    "    print test2.find(j)\n",
    "    "
   ]
  },
  {
   "cell_type": "code",
   "execution_count": 8,
   "metadata": {},
   "outputs": [
    {
     "name": "stdout",
     "output_type": "stream",
     "text": [
      "[0 1 2 4 6 7 8 9]\n",
      "[1 1 1 3 1 1 1 1]\n"
     ]
    }
   ],
   "source": [
    "unique, counts = np.unique(parents, return_counts=True)\n",
    "\n",
    "print unique\n",
    "print counts"
   ]
  },
  {
   "cell_type": "code",
   "execution_count": null,
   "metadata": {},
   "outputs": [],
   "source": []
  }
 ],
 "metadata": {
  "kernelspec": {
   "display_name": "Python 2",
   "language": "python",
   "name": "python2"
  },
  "language_info": {
   "codemirror_mode": {
    "name": "ipython",
    "version": 2
   },
   "file_extension": ".py",
   "mimetype": "text/x-python",
   "name": "python",
   "nbconvert_exporter": "python",
   "pygments_lexer": "ipython2",
   "version": "2.7.14"
  }
 },
 "nbformat": 4,
 "nbformat_minor": 2
}
