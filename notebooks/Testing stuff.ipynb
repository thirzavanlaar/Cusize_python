{
 "cells": [
  {
   "cell_type": "code",
   "execution_count": 1,
   "metadata": {},
   "outputs": [],
   "source": [
    "import numpy as np\n",
    "from netCDF4 import Dataset"
   ]
  },
  {
   "cell_type": "code",
   "execution_count": 2,
   "metadata": {},
   "outputs": [],
   "source": [
    "import os\n",
    "path = '/home/thirza/Cusize_python/PyRipser/python'\n",
    "os.chdir(path)\n",
    "\n",
    "from unionfind import UnionFind"
   ]
  },
  {
   "cell_type": "code",
   "execution_count": 3,
   "metadata": {},
   "outputs": [],
   "source": [
    "ql_file = Dataset('/home/thirza/Cusize_python/subsubdomain_lasttimestep.nc','r',format='NETCDF4')\n",
    "ncells = ql_file.variables['ncells'][:]"
   ]
  },
  {
   "cell_type": "code",
   "execution_count": 4,
   "metadata": {},
   "outputs": [],
   "source": [
    "grid = Dataset('/home/thirza/Cusize_python/subsubgrid.nc','r',format='NETCDF4')\n",
    "clon = grid.variables['clon'][:]\n",
    "clat = grid.variables['clat'][:]\n",
    "clon_vertices = grid.variables['clon_vertices'][:]\n",
    "clat_vertices = grid.variables['clat_vertices'][:]\n",
    "cell_area = grid.variables['cell_area'][:]\n",
    "neighbor_cell_index = grid.variables['neighbor_cell_index'][:]"
   ]
  },
  {
   "cell_type": "code",
   "execution_count": 27,
   "metadata": {},
   "outputs": [
    {
     "name": "stdout",
     "output_type": "stream",
     "text": [
      "1\n",
      "[108 115 357]\n",
      "[182 112 117]\n"
     ]
    }
   ],
   "source": [
    "ql = ql_file.variables['qc'][0,:]\n",
    "ql_proj = np.sum(ql,axis=0)\n",
    "ql_binary = np.where(ql_proj>1E-8,1,0)\n",
    "\n",
    "print ql_binary[347]\n",
    "print neighbor_cell_index[:,108]\n",
    "print neighbor_cell_index[:,109]"
   ]
  },
  {
   "cell_type": "code",
   "execution_count": 50,
   "metadata": {},
   "outputs": [
    {
     "name": "stdout",
     "output_type": "stream",
     "text": [
      "[1061 1071 1062 1070 1064 1063 3515]\n"
     ]
    }
   ],
   "source": [
    "cloud_1 = np.array([1061, 1071, 1062, 1070, 1064, 1063, 3515])\n",
    "print cloud_1\n",
    "cloud_2 = np.array([9440, 9448, 9441, 9454, 9443, 9461, 9444])"
   ]
  },
  {
   "cell_type": "code",
   "execution_count": 64,
   "metadata": {
    "scrolled": false
   },
   "outputs": [
    {
     "name": "stdout",
     "output_type": "stream",
     "text": [
      "[  -1   -1 9462]\n",
      "[9461 9455   -1]\n",
      "[-0.99481574 -0.99485377 -0.99483454]\n",
      "[-0.99483454 -0.99479651 -0.99481574]\n"
     ]
    }
   ],
   "source": [
    "idx_clouds = np.array(np.where(ql_binary))[0]\n",
    "nr_cloud_cells = len(idx_clouds)\n",
    "test = UnionFind(nr_cloud_cells)\n",
    "\n",
    "counter = 0\n",
    "\n",
    "for j in range(0,nr_cloud_cells):\n",
    "#for j in range(0,10):\n",
    "    cell_1 = idx_clouds[j]\n",
    "    \n",
    "    for i in range(0,3):\n",
    "        cell_2 = neighbor_cell_index[i,cell_1]-1  #python starts at 0, causing a difference of 1!\n",
    "        if cell_2 != -1:\n",
    "            if ql_binary[cell_2]: \n",
    "                idx_2 = np.where(idx_clouds==cell_2)\n",
    "                test.link(j,idx_2)\n",
    "                counter += 1\n",
    "\n",
    "#print 'counter:',counter\n",
    "\n",
    "for j in range(0, nr_cloud_cells):\n",
    "    test.find(j)\n",
    "    \n",
    "\n",
    "indextoomuch = np.where(test.parent==563)\n",
    "    \n",
    "#print indextoomuch\n",
    "\n",
    "#print idx_clouds[indextoomuch]\n",
    "\n",
    "print neighbor_cell_index[:,9457]\n",
    "print neighbor_cell_index[:,9461]\n",
    "\n",
    "print clon_vertices[9457,:]\n",
    "print clon_vertices[9461,:]\n",
    "\n"
   ]
  },
  {
   "cell_type": "code",
   "execution_count": 47,
   "metadata": {},
   "outputs": [
    {
     "name": "stdout",
     "output_type": "stream",
     "text": [
      "cloud label: 16\n",
      "p: 563\n",
      "33\n",
      "[  1.   1.   1.   1.   1.   2.   3.   4.   4.   7.   8.   9.  10.  12.\n",
      "  14.  17.  18.  24.  25.  27.  27.  29.  30.  32.  35.  36.  36.  50.\n",
      "  57.  74.  87. 112. 139.]\n"
     ]
    }
   ],
   "source": [
    "cloud_label = 0\n",
    "cloud_size_long = np.zeros(ncells)\n",
    "\n",
    "parents = set(test.parent)\n",
    "for p in parents:\n",
    "    #print '%d --- %s' % (p, np.where(test.parent == p))\n",
    "    idx_parent = np.where(test.parent == p)\n",
    "    #print idx_parent\n",
    "    cloud_cells = idx_clouds[idx_parent]\n",
    "    #print cloud_cells\n",
    "    if len(idx_parent[0])==8.:\n",
    "        print 'cloud label:',cloud_label\n",
    "        print 'p:',p\n",
    "    cloud_size_long[cloud_label] = len(idx_parent[0])\n",
    "    cloud_label += 1\n",
    "\n",
    "\n",
    "cloud_size = np.trim_zeros(cloud_size_long)\n",
    "\n",
    "#print cloud_size\n",
    "nr_clouds = len(cloud_size)\n",
    "print nr_clouds\n",
    "\n",
    "sorted_sizes = np.sort(cloud_size)\n",
    "print sorted_sizes\n"
   ]
  },
  {
   "cell_type": "code",
   "execution_count": null,
   "metadata": {},
   "outputs": [],
   "source": []
  }
 ],
 "metadata": {
  "kernelspec": {
   "display_name": "Python 2",
   "language": "python",
   "name": "python2"
  },
  "language_info": {
   "codemirror_mode": {
    "name": "ipython",
    "version": 2
   },
   "file_extension": ".py",
   "mimetype": "text/x-python",
   "name": "python",
   "nbconvert_exporter": "python",
   "pygments_lexer": "ipython2",
   "version": "2.7.14"
  }
 },
 "nbformat": 4,
 "nbformat_minor": 2
}
