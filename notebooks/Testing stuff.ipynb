{
 "cells": [
  {
   "cell_type": "code",
   "execution_count": 51,
   "metadata": {},
   "outputs": [],
   "source": [
    "import numpy as np\n",
    "import math\n",
    "from netCDF4 import Dataset\n",
    "import matplotlib.pyplot as plt"
   ]
  },
  {
   "cell_type": "code",
   "execution_count": 29,
   "metadata": {},
   "outputs": [],
   "source": [
    "import os\n",
    "path = '/home/thirza/Cusize_python/PyRipser/python'\n",
    "os.chdir(path)\n",
    "\n",
    "from unionfind import UnionFind"
   ]
  },
  {
   "cell_type": "code",
   "execution_count": 30,
   "metadata": {},
   "outputs": [],
   "source": [
    "ql_file = Dataset('/home/thirza/Cusize_python/subsubdomain_lasttimestep.nc','r',format='NETCDF4')\n",
    "ncells = ql_file.variables['ncells'][:]"
   ]
  },
  {
   "cell_type": "code",
   "execution_count": 31,
   "metadata": {},
   "outputs": [],
   "source": [
    "grid = Dataset('/home/thirza/Cusize_python/subsubgrid.nc','r',format='NETCDF4')\n",
    "clon = grid.variables['clon'][:]\n",
    "clat = grid.variables['clat'][:]\n",
    "clon_vertices = grid.variables['clon_vertices'][:]\n",
    "clat_vertices = grid.variables['clat_vertices'][:]\n",
    "cell_area = grid.variables['cell_area'][:]\n",
    "neighbor_cell_index = grid.variables['neighbor_cell_index'][:]\n"
   ]
  },
  {
   "cell_type": "code",
   "execution_count": 32,
   "metadata": {},
   "outputs": [
    {
     "name": "stdout",
     "output_type": "stream",
     "text": [
      "1\n",
      "[108 115 357]\n",
      "[182 112 117]\n"
     ]
    }
   ],
   "source": [
    "ql = ql_file.variables['qc'][0,:]\n",
    "ql_proj = np.sum(ql,axis=0)\n",
    "ql_binary = np.where(ql_proj>1E-8,1,0)\n",
    "\n",
    "print ql_binary[347]\n",
    "print neighbor_cell_index[:,108]\n",
    "print neighbor_cell_index[:,109]"
   ]
  },
  {
   "cell_type": "code",
   "execution_count": 33,
   "metadata": {},
   "outputs": [
    {
     "name": "stdout",
     "output_type": "stream",
     "text": [
      "[1061 1071 1062 1070 1064 1063 3515]\n"
     ]
    }
   ],
   "source": [
    "cloud_1 = np.array([1061, 1071, 1062, 1070, 1064, 1063, 3515])\n",
    "print cloud_1\n",
    "cloud_2 = np.array([9440, 9448, 9441, 9454, 9443, 9461, 9444])"
   ]
  },
  {
   "cell_type": "code",
   "execution_count": 34,
   "metadata": {
    "scrolled": false
   },
   "outputs": [
    {
     "name": "stdout",
     "output_type": "stream",
     "text": [
      "[  -1   -1 9462]\n",
      "[9461 9455   -1]\n",
      "[-0.99481574 -0.99485377 -0.99483454]\n",
      "[-0.99483454 -0.99479651 -0.99481574]\n"
     ]
    }
   ],
   "source": [
    "idx_clouds = np.array(np.where(ql_binary))[0]\n",
    "nr_cloud_cells = len(idx_clouds)\n",
    "test = UnionFind(nr_cloud_cells)\n",
    "\n",
    "counter = 0\n",
    "\n",
    "for j in range(0,nr_cloud_cells):\n",
    "#for j in range(0,10):\n",
    "    cell_1 = idx_clouds[j]\n",
    "    \n",
    "    for i in range(0,3):\n",
    "        cell_2 = neighbor_cell_index[i,cell_1]-1  #python starts at 0, causing a difference of 1!\n",
    "        if cell_2 != -1:\n",
    "            if ql_binary[cell_2]: \n",
    "                idx_2 = np.where(idx_clouds==cell_2)\n",
    "                test.link(j,idx_2)\n",
    "                counter += 1\n",
    "\n",
    "#print 'counter:',counter\n",
    "\n",
    "for j in range(0, nr_cloud_cells):\n",
    "    test.find(j)\n",
    "    \n",
    "\n",
    "indextoomuch = np.where(test.parent==563)\n",
    "    \n",
    "#print indextoomuch\n",
    "\n",
    "#print idx_clouds[indextoomuch]\n",
    "\n",
    "print neighbor_cell_index[:,9457]\n",
    "print neighbor_cell_index[:,9461]\n",
    "\n",
    "print clon_vertices[9457,:]\n",
    "print clon_vertices[9461,:]\n",
    "\n"
   ]
  },
  {
   "cell_type": "code",
   "execution_count": 35,
   "metadata": {},
   "outputs": [],
   "source": [
    "def cloudcentre(cloud_cells,clon,clat,darea):\n",
    "    max_lon = np.max(clon[cloud_cells])\n",
    "    min_lon = np.min(clon[cloud_cells])\n",
    "    cloud_lon = (max_lon+min_lon)/2\n",
    "    max_lat = np.max(clat[cloud_cells])\n",
    "    min_lat = np.min(clat[cloud_cells])\n",
    "    cloud_lat = (max_lat+min_lat)/2\n",
    "    cloud_area = len(idx_parent[0])*darea\n",
    "    cloud_size = (cloud_area/math.pi)**0.5\n",
    "    return cloud_lon, cloud_lat, cloud_size"
   ]
  },
  {
   "cell_type": "code",
   "execution_count": 36,
   "metadata": {},
   "outputs": [],
   "source": [
    "parents = set(test.parent)\n",
    "nr_clouds = len(parents)\n",
    "\n",
    "cloud_label = 0\n",
    "cloud_size = np.zeros(nr_clouds)\n",
    "cloud_lon = np.zeros(nr_clouds)\n",
    "cloud_lat = np.zeros(nr_clouds)\n",
    "\n",
    "for p in parents:\n",
    "    #print '%d --- %s' % (p, np.where(test.parent == p))\n",
    "    idx_parent = np.where(test.parent == p)\n",
    "    cloud_cells = idx_clouds[idx_parent]\n",
    "    centre = cloudcentre(cloud_cells,clon,clat,darea)\n",
    "    cloud_lon[cloud_label] = centre[0]\n",
    "    cloud_lat[cloud_label] = centre[1]\n",
    "    cloud_size[cloud_label] = centre[2]\n",
    "    cloud_label += 1\n",
    "\n"
   ]
  },
  {
   "cell_type": "code",
   "execution_count": 59,
   "metadata": {},
   "outputs": [
    {
     "name": "stdout",
     "output_type": "stream",
     "text": [
      "87.14471201402543\n",
      "sizemin: 87.14471201402543\n",
      "sizemax: [10721.27901853]\n",
      "darea: 23857.88554372003\n",
      "124.0\n"
     ]
    }
   ],
   "source": [
    "darea = max(cell_area)\n",
    "\n",
    "step = (darea/math.pi)**0.5\n",
    "sizemin = (darea/math.pi)**0.5\n",
    "sizemax = ((ncells*darea)/math.pi)**0.5\n",
    "bin_edges = np.arange(sizemin, sizemax, step) # sizemin or 0?\n",
    "\n",
    "#darea:   23857.8848    \n",
    "# total area:   360892224.    \n",
    "#sizemin=   154.459976    \n",
    "#sizemax=   19002.9707    \n",
    "#nr of bins =  124\n",
    "  \n",
    "freq, edges = np.histogram(cloud_size, bins=bin_edges, density=True)\n",
    "\n",
    "#fig, ax = plt.subplots()\n"
   ]
  },
  {
   "cell_type": "code",
   "execution_count": 62,
   "metadata": {},
   "outputs": [
    {
     "data": {
      "text/plain": [
       "<matplotlib.collections.PathCollection at 0x7f219700ed90>"
      ]
     },
     "execution_count": 62,
     "metadata": {},
     "output_type": "execute_result"
    },
    {
     "data": {
      "image/png": "[encoded data removed]",
      "text/plain": [
       "<matplotlib.figure.Figure at 0x7f21970ba790>"
      ]
     },
     "metadata": {},
     "output_type": "display_data"
    }
   ],
   "source": [
    "plt.figure()\n",
    "axes = plt.gca()\n",
    "axes.set_xlim([0,2000])\n",
    "axes.set_ylim([0,0.003])\n",
    "plt.scatter(edges[:-1], freq)\n",
    "\n",
    "#ax.bar(edges[:-1], frq, width=np.diff(edges), ec=\"k\", align=\"edge\")"
   ]
  },
  {
   "cell_type": "code",
   "execution_count": null,
   "metadata": {},
   "outputs": [],
   "source": []
  }
 ],
 "metadata": {
  "kernelspec": {
   "display_name": "Python 2",
   "language": "python",
   "name": "python2"
  },
  "language_info": {
   "codemirror_mode": {
    "name": "ipython",
    "version": 2
   },
   "file_extension": ".py",
   "mimetype": "text/x-python",
   "name": "python",
   "nbconvert_exporter": "python",
   "pygments_lexer": "ipython2",
   "version": "2.7.14"
  }
 },
 "nbformat": 4,
 "nbformat_minor": 2
}
